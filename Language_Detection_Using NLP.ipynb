{
 "cells": [
  {
   "cell_type": "markdown",
   "id": "9cfeb4fc",
   "metadata": {},
   "source": [
    "# Importing libraries \n"
   ]
  },
  {
   "cell_type": "code",
   "execution_count": 24,
   "id": "0eb34374",
   "metadata": {},
   "outputs": [],
   "source": [
    "import pandas as pd"
   ]
  },
  {
   "cell_type": "code",
   "execution_count": 25,
   "id": "b3a14f88",
   "metadata": {},
   "outputs": [],
   "source": [
    "import numpy as np"
   ]
  },
  {
   "cell_type": "code",
   "execution_count": 26,
   "id": "833755fd",
   "metadata": {},
   "outputs": [],
   "source": [
    "import matplotlib.pyplot as plt"
   ]
  },
  {
   "cell_type": "code",
   "execution_count": 27,
   "id": "0ed097e8",
   "metadata": {},
   "outputs": [],
   "source": [
    "import seaborn as sns\n",
    "import re"
   ]
  },
  {
   "cell_type": "code",
   "execution_count": 28,
   "id": "a342e689",
   "metadata": {},
   "outputs": [],
   "source": [
    "import warnings\n",
    "warnings.simplefilter(\"ignore\")"
   ]
  },
  {
   "cell_type": "markdown",
   "id": "c9c5c7b4",
   "metadata": {},
   "source": [
    "# Importing Dataset"
   ]
  },
  {
   "cell_type": "code",
   "execution_count": 29,
   "id": "08e6e44d",
   "metadata": {},
   "outputs": [],
   "source": [
    "data=pd.read_csv(\"Language Detection.csv\")"
   ]
  },
  {
   "cell_type": "code",
   "execution_count": 30,
   "id": "f1d36cfb",
   "metadata": {},
   "outputs": [
    {
     "data": {
      "text/html": [
       "<div>\n",
       "<style scoped>\n",
       "    .dataframe tbody tr th:only-of-type {\n",
       "        vertical-align: middle;\n",
       "    }\n",
       "\n",
       "    .dataframe tbody tr th {\n",
       "        vertical-align: top;\n",
       "    }\n",
       "\n",
       "    .dataframe thead th {\n",
       "        text-align: right;\n",
       "    }\n",
       "</style>\n",
       "<table border=\"1\" class=\"dataframe\">\n",
       "  <thead>\n",
       "    <tr style=\"text-align: right;\">\n",
       "      <th></th>\n",
       "      <th>Text</th>\n",
       "      <th>Language</th>\n",
       "    </tr>\n",
       "  </thead>\n",
       "  <tbody>\n",
       "    <tr>\n",
       "      <th>0</th>\n",
       "      <td>Nature, in the broadest sense, is the natural...</td>\n",
       "      <td>English</td>\n",
       "    </tr>\n",
       "    <tr>\n",
       "      <th>1</th>\n",
       "      <td>\"Nature\" can refer to the phenomena of the phy...</td>\n",
       "      <td>English</td>\n",
       "    </tr>\n",
       "    <tr>\n",
       "      <th>2</th>\n",
       "      <td>The study of nature is a large, if not the onl...</td>\n",
       "      <td>English</td>\n",
       "    </tr>\n",
       "    <tr>\n",
       "      <th>3</th>\n",
       "      <td>Although humans are part of nature, human acti...</td>\n",
       "      <td>English</td>\n",
       "    </tr>\n",
       "    <tr>\n",
       "      <th>4</th>\n",
       "      <td>[1] The word nature is borrowed from the Old F...</td>\n",
       "      <td>English</td>\n",
       "    </tr>\n",
       "  </tbody>\n",
       "</table>\n",
       "</div>"
      ],
      "text/plain": [
       "                                                Text Language\n",
       "0   Nature, in the broadest sense, is the natural...  English\n",
       "1  \"Nature\" can refer to the phenomena of the phy...  English\n",
       "2  The study of nature is a large, if not the onl...  English\n",
       "3  Although humans are part of nature, human acti...  English\n",
       "4  [1] The word nature is borrowed from the Old F...  English"
      ]
     },
     "execution_count": 30,
     "metadata": {},
     "output_type": "execute_result"
    }
   ],
   "source": [
    "data.head()"
   ]
  },
  {
   "cell_type": "code",
   "execution_count": 31,
   "id": "58c06640",
   "metadata": {},
   "outputs": [
    {
     "data": {
      "text/plain": [
       "English       1385\n",
       "French        1014\n",
       "Spanish        819\n",
       "Portugeese     739\n",
       "Italian        698\n",
       "Russian        692\n",
       "Sweedish       676\n",
       "Malayalam      594\n",
       "Dutch          546\n",
       "Arabic         536\n",
       "Turkish        474\n",
       "German         470\n",
       "Tamil          469\n",
       "Danish         428\n",
       "Kannada        369\n",
       "Greek          365\n",
       "Hindi           63\n",
       "Name: Language, dtype: int64"
      ]
     },
     "execution_count": 31,
     "metadata": {},
     "output_type": "execute_result"
    }
   ],
   "source": [
    "data[\"Language\"].value_counts()"
   ]
  },
  {
   "cell_type": "code",
   "execution_count": 32,
   "id": "616a6ae2",
   "metadata": {},
   "outputs": [],
   "source": [
    "#Separating Independent and Dependent features"
   ]
  },
  {
   "cell_type": "code",
   "execution_count": 33,
   "id": "9244437e",
   "metadata": {},
   "outputs": [],
   "source": [
    "X = data[\"Text\"]\n",
    "y = data[\"Language\"]"
   ]
  },
  {
   "cell_type": "code",
   "execution_count": 34,
   "id": "d830251c",
   "metadata": {},
   "outputs": [
    {
     "name": "stdout",
     "output_type": "stream",
     "text": [
      "10337\n"
     ]
    }
   ],
   "source": [
    "print(X.count())\n"
   ]
  },
  {
   "cell_type": "code",
   "execution_count": 35,
   "id": "c951d097",
   "metadata": {},
   "outputs": [
    {
     "name": "stdout",
     "output_type": "stream",
     "text": [
      "10337\n"
     ]
    }
   ],
   "source": [
    "print(y.count())"
   ]
  },
  {
   "cell_type": "markdown",
   "id": "f675d465",
   "metadata": {},
   "source": [
    "# Label Encoding"
   ]
  },
  {
   "cell_type": "code",
   "execution_count": 36,
   "id": "a0fa8810",
   "metadata": {},
   "outputs": [],
   "source": [
    "from sklearn.preprocessing import LabelEncoder\n",
    "le = LabelEncoder()\n",
    "y = le.fit_transform(y)"
   ]
  },
  {
   "cell_type": "code",
   "execution_count": 37,
   "id": "f5e0baf3",
   "metadata": {},
   "outputs": [],
   "source": [
    "# creating a list for appending the preprocessed text\n",
    "data_list = []\n",
    "# iterating through all the text\n",
    "for text in X:\n",
    "       # removing the symbols and numbers\n",
    "        text = re.sub(r'[!@#$(),n\"%^*?:;~`0-9]', ' ', text)\n",
    "        text = re.sub(r'[[]]', ' ', text)\n",
    "        # converting the text to lower case\n",
    "        text = text.lower()\n",
    "        # appending to data_list\n",
    "        data_list.append(text)"
   ]
  },
  {
   "cell_type": "code",
   "execution_count": null,
   "id": "f21c16cb",
   "metadata": {},
   "outputs": [],
   "source": [
    "#Bag of Words"
   ]
  },
  {
   "cell_type": "code",
   "execution_count": 38,
   "id": "352c7b9c",
   "metadata": {},
   "outputs": [
    {
     "data": {
      "text/plain": [
       "(10337, 34937)"
      ]
     },
     "execution_count": 38,
     "metadata": {},
     "output_type": "execute_result"
    }
   ],
   "source": [
    "from sklearn.feature_extraction.text import CountVectorizer\n",
    "cv = CountVectorizer()\n",
    "X = cv.fit_transform(data_list).toarray()\n",
    "X.shape"
   ]
  },
  {
   "cell_type": "markdown",
   "id": "b500c91e",
   "metadata": {},
   "source": [
    "# Train Test Splitting"
   ]
  },
  {
   "cell_type": "code",
   "execution_count": 40,
   "id": "5aaf8bd5",
   "metadata": {},
   "outputs": [],
   "source": [
    "from sklearn.model_selection import train_test_split\n",
    "x_train, x_test, y_train, y_test = train_test_split(X, y, test_size = 0.20)"
   ]
  },
  {
   "cell_type": "markdown",
   "id": "0ce5ce43",
   "metadata": {},
   "source": [
    "# Model Training and Prediction\n"
   ]
  },
  {
   "cell_type": "code",
   "execution_count": 41,
   "id": "4e970384",
   "metadata": {},
   "outputs": [
    {
     "data": {
      "text/plain": [
       "MultinomialNB()"
      ]
     },
     "execution_count": 41,
     "metadata": {},
     "output_type": "execute_result"
    }
   ],
   "source": [
    "from sklearn.naive_bayes import MultinomialNB\n",
    "model = MultinomialNB()\n",
    "model.fit(x_train, y_train)"
   ]
  },
  {
   "cell_type": "code",
   "execution_count": 42,
   "id": "6952aefb",
   "metadata": {},
   "outputs": [],
   "source": [
    "y_pred = model.predict(x_test)"
   ]
  },
  {
   "cell_type": "markdown",
   "id": "7e89ce29",
   "metadata": {},
   "source": [
    "# Model Evaluation\n",
    "\n",
    "\n"
   ]
  },
  {
   "cell_type": "code",
   "execution_count": 68,
   "id": "6377412a",
   "metadata": {},
   "outputs": [],
   "source": [
    "from sklearn.metrics import accuracy_score, confusion_matrix, classification_report\n",
    "ac = accuracy_score(y_test, y_pred)\n",
    "cm = confusion_matrix(y_test, y_pred)"
   ]
  },
  {
   "cell_type": "code",
   "execution_count": 50,
   "id": "8af7c8a0",
   "metadata": {},
   "outputs": [
    {
     "name": "stdout",
     "output_type": "stream",
     "text": [
      "Accuracy is : 0.9743713733075435\n"
     ]
    }
   ],
   "source": [
    "print(\"Accuracy is :\",ac)\n",
    "\n"
   ]
  },
  {
   "cell_type": "code",
   "execution_count": 51,
   "id": "0f6c49fe",
   "metadata": {},
   "outputs": [
    {
     "data": {
      "image/png": "[encoded data removed]",
      "text/plain": [
       "<Figure size 1080x720 with 2 Axes>"
      ]
     },
     "metadata": {
      "needs_background": "light"
     },
     "output_type": "display_data"
    }
   ],
   "source": [
    "plt.figure(figsize=(15,10))\n",
    "sns.heatmap(cm, annot = True)\n",
    "plt.show()"
   ]
  },
  {
   "cell_type": "code",
   "execution_count": 53,
   "id": "41ef3210",
   "metadata": {},
   "outputs": [
    {
     "name": "stdout",
     "output_type": "stream",
     "text": [
      "[[116   0   0   3   0   0   0   0   0   0   0   0   0   0   0   0   0]\n",
      " [  0  68   0   4   2   0   0   0   0   0   0   0   0   0   5   0   0]\n",
      " [  0   0 108   2   1   0   0   0   0   0   0   0   0   0   0   0   0]\n",
      " [  0   0   0 263   0   1   0   0   0   0   0   0   0   1   0   0   0]\n",
      " [  0   0   0   0 197   0   0   0   0   0   0   0   0   0   0   0   0]\n",
      " [  0   0   0   1   1  96   0   0   0   0   0   0   0   0   0   0   0]\n",
      " [  0   0   0   0   0   0  66   0   0   0   0   0   0   0   0   0   0]\n",
      " [  0   0   0   0   0   0   0   7   0   0   0   0   0   0   0   0   0]\n",
      " [  0   0   0   1   1   0   0   0 130   0   0   0   0   1   0   0   0]\n",
      " [  0   0   0   1   0   0   0   0   0  82   0   0   0   0   0   0   0]\n",
      " [  0   0   0   2   0   0   0   0   0   0 136   0   0   0   0   0   0]\n",
      " [  0   0   0   2   1   0   0   0   1   0   0 153   0   1   0   0   0]\n",
      " [  0   0   0   5   1   0   0   0   0   0   0   0 130   0   0   0   0]\n",
      " [  0   0   0   2   1   0   0   0   0   0   0   2   0 156   0   0   0]\n",
      " [  0   0   0   2   0   0   0   0   0   0   0   0   0   0 129   0   0]\n",
      " [  0   0   0   3   0   0   0   0   0   0   0   0   0   0   0 102   0]\n",
      " [  0   0   0   4   0   0   0   0   1   0   0   0   0   0   0   0  76]]\n"
     ]
    }
   ],
   "source": [
    "print(cm)"
   ]
  },
  {
   "cell_type": "code",
   "execution_count": 56,
   "id": "a1a06b2b",
   "metadata": {},
   "outputs": [],
   "source": [
    "# function for predicting language\n",
    "def prediction(text):\n",
    "    x = cv.transform([text]).toarray()\n",
    "    lang = model.predict(x)\n",
    "    lang = le.inverse_transform(lang)\n",
    "    print(\"The langauge is in\",lang[0])"
   ]
  },
  {
   "cell_type": "code",
   "execution_count": 67,
   "id": "ec769025",
   "metadata": {},
   "outputs": [
    {
     "name": "stdout",
     "output_type": "stream",
     "text": [
      "The langauge is in English\n",
      "The langauge is in French\n",
      "The langauge is in Arabic\n",
      "The langauge is in Spanish\n",
      "The langauge is in Malayalam\n",
      "The langauge is in Russian\n",
      "The langauge is in Tamil\n",
      "The langauge is in Hindi\n",
      "The langauge is in Portugeese\n",
      "The langauge is in Dutch\n",
      "The langauge is in Kannada\n"
     ]
    }
   ],
   "source": [
    "# English\n",
    "prediction(\"Lakshmanan n\")\n",
    "# French\n",
    "prediction(\"En octobre 2018, lors de l'attribution du Nobel de physique à Donna Stricklands\")\n",
    "# Arabic\n",
    "prediction(\"توفو الرهيب بعض الأمثلة على كلمة فظيعة هي حوادث الاغتصاب الأخيرة في دلهي كانت فظيعة أو يتم معاملة السجنا\")\n",
    "# Spanish\n",
    "prediction(\"Analytics Vidhya proporciona un portal de conocimiento basado en la comunidad para profesionales de Analytics y Data Science.\")\n",
    "# Malayalam\n",
    "prediction(\"പാഴ്വസ്തു കൈകാര്യം Environmental technology  എല്ലാ ഭാഷകളിലും സ്വതന്ത്രവും സമ്പൂർണവുമായ വിജ്ഞാനകോശം നിർമ്മിക്കുവാനുള്ള ഒരു കൂട്ടായ സംരംഭമാണ് വിക്കിപീഡിയനു\")\n",
    "# Russian\n",
    "prediction(\"один из самых старых и авторитетных общенаучных журнало.\")\n",
    "#Tamil\n",
    "prediction(\"நீங்கள் ஒரு வேலையைப் பெறும் வரை அனுபவத்தைப் பெற முடியாத\")\n",
    "#Hindi\n",
    "prediction(\"क्या आप अगले शनिवार को स्वतं\")\n",
    "#portugeese\n",
    "prediction(\"Vários outros projetos de wiki-enciclopédias foram iniciados\")\n",
    "#Dutch\n",
    "prediction(\"Op 15 januari 2015 kreeg de Wikipediagemeense voor ieder toegankelijke encyclopedie\")\n",
    "#Kannada\n",
    "prediction(\"ನಾನು ನಿಮಗೆ ಆ ರಹಸ್ಯ ಸಲಹೆಯನ್ನು ತುಂಬಾ ನಿರರ್ಗಳವಾಗಿ\")"
   ]
  },
  {
   "cell_type": "code",
   "execution_count": null,
   "id": "c3b6afe9",
   "metadata": {},
   "outputs": [],
   "source": []
  }
 ],
 "metadata": {
  "kernelspec": {
   "display_name": "Python 3 (ipykernel)",
   "language": "python",
   "name": "python3"
  },
  "language_info": {
   "codemirror_mode": {
    "name": "ipython",
    "version": 3
   },
   "file_extension": ".py",
   "mimetype": "text/x-python",
   "name": "python",
   "nbconvert_exporter": "python",
   "pygments_lexer": "ipython3",
   "version": "3.9.7"
  }
 },
 "nbformat": 4,
 "nbformat_minor": 5
}
